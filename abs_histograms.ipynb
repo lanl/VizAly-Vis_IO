{
 "cells": [
  {
   "cell_type": "code",
   "execution_count": null,
   "id": "5f6a29ef",
   "metadata": {},
   "outputs": [],
   "source": [
    "import pandas as pd\n",
    "import plotly.graph_objects as go\n",
    "import numpy as np\n",
    "import csv"
   ]
  },
  {
   "cell_type": "code",
   "execution_count": null,
   "id": "84844e06",
   "metadata": {},
   "outputs": [],
   "source": [
    "def read_halo_csv(filename):\n",
    "    rows = []\n",
    "    with open(filename) as file:\n",
    "        csvreader = csv.reader(file, delimiter=',')\n",
    "        for row in csvreader:\n",
    "            rows.append(row)\n",
    "    return rows\n",
    "\n",
    "\n",
    "def str_to_int(my_list):\n",
    "    for i in range(0, len(my_list)):\n",
    "        my_list[i] = int(my_list[i])\n",
    "    return my_list\n",
    "\n",
    "def getList(filename):\n",
    "    temp_list = read_halo_csv(filename)\n",
    "    the_list = str_to_int(temp_list[0])\n",
    "    \n",
    "    #Normalize the list\n",
    "    list_sum = sum(the_list)\n",
    "    new_list=[]\n",
    "    for item in the_list:\n",
    "        new_list.append(float(item)/float(list_sum))\n",
    "    \n",
    "    return new_list"
   ]
  },
  {
   "cell_type": "code",
   "execution_count": null,
   "id": "d94da602",
   "metadata": {},
   "outputs": [],
   "source": [
    "_LLL_x = getList(\"data/output_001/hist-sz-x-LLL-0.001.csv\")\n",
    "_LLU_x = getList(\"data/output_001/hist-sz-x-LLU-0.001.csv\")\n",
    "_UUU_x = getList(\"data/output_001/hist-sz-x-UUU-0.001.csv\")\n",
    "fig = go.Figure(data=[\n",
    "                go.Bar(y=_LLL_x, name='LLL'),\n",
    "                go.Bar(y=_LLU_x, name='LLU'),\n",
    "                go.Bar(y=_UUU_x, name='UUU')\n",
    "])\n",
    "fig.show()"
   ]
  },
  {
   "cell_type": "code",
   "execution_count": null,
   "id": "33d5ae1c",
   "metadata": {},
   "outputs": [],
   "source": [
    "_LLL_y = getList(\"data/output_001/hist-sz-y-LLL-0.001.csv\")\n",
    "_LLU_y = getList(\"data/output_001/hist-sz-y-LLU-0.001.csv\")\n",
    "_UUU_y = getList(\"data/output_001/hist-sz-y-UUU-0.001.csv\")\n",
    "fig = go.Figure(data=[\n",
    "                go.Bar(y=_LLL_y, name='LLL'),\n",
    "                go.Bar(y=_LLU_y, name='LLU'),\n",
    "                go.Bar(y=_UUU_y, name='UUU')\n",
    "])\n",
    "fig.show()"
   ]
  },
  {
   "cell_type": "code",
   "execution_count": null,
   "id": "0a43fd1d",
   "metadata": {},
   "outputs": [],
   "source": [
    "df_halo_x_LLL_001 = pd.read_csv(\"data/output_001/particle-x-LLL-sz-0.001.csv\")\n",
    "df_halo_x_LLL_001.columns=[\"x\",\"y\",\"z\",\"abs_x\"]"
   ]
  },
  {
   "cell_type": "code",
   "execution_count": null,
   "id": "f78f467e",
   "metadata": {},
   "outputs": [],
   "source": [
    "fig = go.Figure(data=[go.Scatter3d(\n",
    "    x=df_halo_x_LLL_001['x'],\n",
    "    y=df_halo_x_LLL_001['y'],\n",
    "    z=df_halo_x_LLL_001['z'],\n",
    "    mode='markers',\n",
    "    marker=dict(\n",
    "        size=1,\n",
    "        color=df_halo_x_LLL_001['abs_x'],   # set color to an array/list of desired values\n",
    "        colorscale='Viridis',       # choose a colorscale\n",
    "        opacity=0.4,\n",
    "        colorbar=dict(thickness=20)\n",
    "    )\n",
    ")])\n",
    "\n",
    "# tight layout\n",
    "fig.update_layout(margin=dict(l=0, r=0, b=0, t=0))\n",
    "fig.show()"
   ]
  },
  {
   "cell_type": "code",
   "execution_count": null,
   "id": "21690426",
   "metadata": {},
   "outputs": [],
   "source": [
    "df_halo_x_UUU_001 = pd.read_csv(\"data/output_001/particle-x-UUU-sz-0.001.csv\")\n",
    "df_halo_x_UUU_001.columns=[\"x\",\"y\",\"z\",\"abs_x\"]\n",
    "\n",
    "fig = go.Figure(data=[go.Scatter3d(\n",
    "    x=df_halo_x_UUU_001['x'],\n",
    "    y=df_halo_x_UUU_001['y'],\n",
    "    z=df_halo_x_UUU_001['z'],\n",
    "    mode='markers',\n",
    "    marker=dict(\n",
    "        size=1,\n",
    "        color=df_halo_x_UUU_001['abs_x'],   # set color to an array/list of desired values\n",
    "        colorscale='Portland',       # choose a colorscale\n",
    "        opacity=0.4,\n",
    "        colorbar=dict(thickness=20)\n",
    "    )\n",
    ")])\n",
    "\n",
    "# tight layout\n",
    "fig.update_layout(margin=dict(l=0, r=0, b=0, t=0))\n",
    "fig.show()"
   ]
  },
  {
   "cell_type": "code",
   "execution_count": null,
   "id": "bcada0bb",
   "metadata": {},
   "outputs": [],
   "source": []
  }
 ],
 "metadata": {
  "kernelspec": {
   "display_name": "Python 3 (ipykernel)",
   "language": "python",
   "name": "python3"
  },
  "language_info": {
   "codemirror_mode": {
    "name": "ipython",
    "version": 3
   },
   "file_extension": ".py",
   "mimetype": "text/x-python",
   "name": "python",
   "nbconvert_exporter": "python",
   "pygments_lexer": "ipython3",
   "version": "3.9.5"
  }
 },
 "nbformat": 4,
 "nbformat_minor": 5
}
